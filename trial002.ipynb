{
 "cells": [
  {
   "cell_type": "code",
   "execution_count": 1,
   "id": "1eb07771",
   "metadata": {
    "_cell_guid": "b1076dfc-b9ad-4769-8c92-a6c4dae69d19",
    "_uuid": "8f2839f25d086af736a60e9eeb907d3b93b6e0e5",
    "execution": {
     "iopub.execute_input": "2023-02-26T08:27:33.393692Z",
     "iopub.status.busy": "2023-02-26T08:27:33.393178Z",
     "iopub.status.idle": "2023-02-26T08:27:36.373406Z",
     "shell.execute_reply": "2023-02-26T08:27:36.371839Z"
    },
    "papermill": {
     "duration": 2.990736,
     "end_time": "2023-02-26T08:27:36.376546",
     "exception": false,
     "start_time": "2023-02-26T08:27:33.385810",
     "status": "completed"
    },
    "tags": []
   },
   "outputs": [],
   "source": [
    "import pandas as pd\n",
    "import numpy as np\n",
    "import seaborn as sns\n",
    "import matplotlib.pyplot as plt\n",
    "%matplotlib inline\n",
    "import sklearn\n",
    "\n",
    "import librosa\n",
    "import librosa.display\n",
    "import IPython.display as ipd\n",
    "import warnings\n",
    "warnings.filterwarnings('ignore')\n",
    "from tqdm import tqdm\n"
   ]
  },
  {
   "cell_type": "markdown",
   "id": "10257c11",
   "metadata": {
    "papermill": {
     "duration": 0.003787,
     "end_time": "2023-02-26T08:27:36.385166",
     "exception": false,
     "start_time": "2023-02-26T08:27:36.381379",
     "status": "completed"
    },
    "tags": []
   },
   "source": [
    "# **EXTRACTING AUDIO FEATURES**"
   ]
  },
  {
   "cell_type": "code",
   "execution_count": 2,
   "id": "04cec838",
   "metadata": {
    "execution": {
     "iopub.execute_input": "2023-02-26T08:27:36.396404Z",
     "iopub.status.busy": "2023-02-26T08:27:36.394941Z",
     "iopub.status.idle": "2023-02-26T08:27:36.402520Z",
     "shell.execute_reply": "2023-02-26T08:27:36.401348Z"
    },
    "papermill": {
     "duration": 0.015771,
     "end_time": "2023-02-26T08:27:36.405075",
     "exception": false,
     "start_time": "2023-02-26T08:27:36.389304",
     "status": "completed"
    },
    "tags": []
   },
   "outputs": [],
   "source": [
    "def code_extractor(filename):\n",
    "    cnt=0\n",
    "    str = ''\n",
    "    for ch in filename:\n",
    "        if(ch=='_'):\n",
    "            cnt+=1;\n",
    "        elif(cnt==2):\n",
    "            str += ch\n",
    "    return str"
   ]
  },
  {
   "cell_type": "code",
   "execution_count": 3,
   "id": "ba806584",
   "metadata": {
    "execution": {
     "iopub.execute_input": "2023-02-26T08:27:36.414831Z",
     "iopub.status.busy": "2023-02-26T08:27:36.414367Z",
     "iopub.status.idle": "2023-02-26T08:27:36.428052Z",
     "shell.execute_reply": "2023-02-26T08:27:36.426787Z"
    },
    "papermill": {
     "duration": 0.021632,
     "end_time": "2023-02-26T08:27:36.430730",
     "exception": false,
     "start_time": "2023-02-26T08:27:36.409098",
     "status": "completed"
    },
    "tags": []
   },
   "outputs": [],
   "source": [
    "def feature_extractor(y, sr):\n",
    "    \n",
    "    S = np.abs(librosa.stft(y))\n",
    "    \n",
    "    tonnetz = librosa.feature.tonnetz(y=y, sr=sr)\n",
    "    tonnetz_mean = np.mean(tonnetz.T, axis=0)\n",
    "    tonnetz_var = np.var(tonnetz.T, axis=0)\n",
    "    features = np.append(tonnetz_mean, tonnetz_var)\n",
    "    \n",
    "    #zero_crossing_rate = librosa.feature.zero_crossing_rate(y)\n",
    "    #zero_crossing_rate_mean = np.mean(zero_crossing_rate)\n",
    "    #zero_crossing_rate_var = np.var(zero_crossing_rate)\n",
    "    #features = np.append(features, [zero_crossing_rate_mean, zero_crossing_rate_var])\n",
    "    \n",
    "    spec_centroid = librosa.feature.spectral_centroid(sr, S=S)\n",
    "    spec_centroid_mean = np.mean(spec_centroid, axis = 1)\n",
    "    spec_centroid_var = np.var(spec_centroid, axis = 1)\n",
    "    features = np.append(features, [spec_centroid_mean, spec_centroid_var])\n",
    "\n",
    "    mfcc = librosa.feature.mfcc(sr, S=S)\n",
    "    mfcc_mean = np.mean(mfcc.T, axis = 0)\n",
    "    mfcc_var = np.var(mfcc.T, axis = 0)\n",
    "    features = np.append(features, mfcc_mean)\n",
    "    features = np.append(features, mfcc_var)\n",
    "\n",
    "    spec_width = librosa.feature.spectral_bandwidth(sr, S=S)\n",
    "    spec_width_mean = np.mean(spec_width)\n",
    "    spec_width_var = np.var(spec_width)\n",
    "    features = np.append(features, [spec_width_mean, spec_width_var])\n",
    "    \n",
    "    spec_contrast = librosa.feature.spectral_contrast(sr, S=S)\n",
    "    spec_contrast_mean = np.mean(spec_contrast.T, axis = 0)\n",
    "    spec_contrast_var= np.var(spec_contrast.T, axis = 0)\n",
    "    features = np.append(features, spec_contrast_mean)\n",
    "    features = np.append(features, spec_contrast_var)\n",
    "    \n",
    "    return features\n",
    "    \n",
    "    "
   ]
  },
  {
   "cell_type": "code",
   "execution_count": 4,
   "id": "a7cf9000",
   "metadata": {
    "execution": {
     "iopub.execute_input": "2023-02-26T08:27:36.440454Z",
     "iopub.status.busy": "2023-02-26T08:27:36.440055Z",
     "iopub.status.idle": "2023-02-26T08:37:54.137937Z",
     "shell.execute_reply": "2023-02-26T08:37:54.136456Z"
    },
    "papermill": {
     "duration": 617.70665,
     "end_time": "2023-02-26T08:37:54.141386",
     "exception": false,
     "start_time": "2023-02-26T08:27:36.434736",
     "status": "completed"
    },
    "tags": []
   },
   "outputs": [],
   "source": [
    "import os\n",
    "\n",
    "xl = pd.read_excel('/kaggle/input/voice/BVC_Voice_Bio_Public.xlsx')\n",
    "data = pd.DataFrame()\n",
    "label = pd.DataFrame()\n",
    "\n",
    "for dirname, _, filenames in os.walk('/kaggle/input/voice/multiple_sentences'):\n",
    "    for filename in filenames:\n",
    "        y, sr = librosa.load(os.path.join(dirname, filename))\n",
    "        y = librosa.effects.harmonic(y)\n",
    "        data = data.append([feature_extractor(y, sr)])\n",
    "        label = label.append([xl[xl['New_ID']==int(code_extractor(filename))].Sex.item()])\n",
    "data.insert(70, 'Sex', label[0])"
   ]
  },
  {
   "cell_type": "code",
   "execution_count": 5,
   "id": "f8c6723f",
   "metadata": {
    "execution": {
     "iopub.execute_input": "2023-02-26T08:37:54.151820Z",
     "iopub.status.busy": "2023-02-26T08:37:54.151104Z",
     "iopub.status.idle": "2023-02-26T08:37:54.191413Z",
     "shell.execute_reply": "2023-02-26T08:37:54.190196Z"
    },
    "papermill": {
     "duration": 0.049082,
     "end_time": "2023-02-26T08:37:54.194907",
     "exception": false,
     "start_time": "2023-02-26T08:37:54.145825",
     "status": "completed"
    },
    "tags": []
   },
   "outputs": [
    {
     "data": {
      "text/html": [
       "<div>\n",
       "<style scoped>\n",
       "    .dataframe tbody tr th:only-of-type {\n",
       "        vertical-align: middle;\n",
       "    }\n",
       "\n",
       "    .dataframe tbody tr th {\n",
       "        vertical-align: top;\n",
       "    }\n",
       "\n",
       "    .dataframe thead th {\n",
       "        text-align: right;\n",
       "    }\n",
       "</style>\n",
       "<table border=\"1\" class=\"dataframe\">\n",
       "  <thead>\n",
       "    <tr style=\"text-align: right;\">\n",
       "      <th></th>\n",
       "      <th>tonnetz1_mean</th>\n",
       "      <th>tonnetz2_mean</th>\n",
       "      <th>tonnetz3_mean</th>\n",
       "      <th>tonnetz4_mean</th>\n",
       "      <th>tonnetz5_mean</th>\n",
       "      <th>tonnetz6_mean</th>\n",
       "      <th>tonnetz1_var</th>\n",
       "      <th>tonnetz2_var</th>\n",
       "      <th>tonnetz3_var</th>\n",
       "      <th>tonnetz4_var</th>\n",
       "      <th>...</th>\n",
       "      <th>spec_contrast6_mean</th>\n",
       "      <th>spec_contrast7_mean</th>\n",
       "      <th>spec_contrast_var1</th>\n",
       "      <th>spec_contrast2_var</th>\n",
       "      <th>spec_contrast3_var</th>\n",
       "      <th>spec_contrast4_var</th>\n",
       "      <th>spec_contrast5_var</th>\n",
       "      <th>spec_contrast6_var</th>\n",
       "      <th>spec_contrast7_var</th>\n",
       "      <th>Sex</th>\n",
       "    </tr>\n",
       "  </thead>\n",
       "  <tbody>\n",
       "    <tr>\n",
       "      <th>0</th>\n",
       "      <td>-0.009410</td>\n",
       "      <td>0.053376</td>\n",
       "      <td>0.026745</td>\n",
       "      <td>-0.044762</td>\n",
       "      <td>0.031280</td>\n",
       "      <td>0.014680</td>\n",
       "      <td>0.012448</td>\n",
       "      <td>0.012119</td>\n",
       "      <td>0.049109</td>\n",
       "      <td>0.028018</td>\n",
       "      <td>...</td>\n",
       "      <td>18.628574</td>\n",
       "      <td>48.671432</td>\n",
       "      <td>15.539253</td>\n",
       "      <td>54.773673</td>\n",
       "      <td>48.444731</td>\n",
       "      <td>26.356160</td>\n",
       "      <td>7.896053</td>\n",
       "      <td>11.567927</td>\n",
       "      <td>17.568051</td>\n",
       "      <td>'Female'</td>\n",
       "    </tr>\n",
       "    <tr>\n",
       "      <th>0</th>\n",
       "      <td>-0.042910</td>\n",
       "      <td>0.004391</td>\n",
       "      <td>0.176053</td>\n",
       "      <td>0.139490</td>\n",
       "      <td>-0.042872</td>\n",
       "      <td>-0.064765</td>\n",
       "      <td>0.016270</td>\n",
       "      <td>0.017637</td>\n",
       "      <td>0.048160</td>\n",
       "      <td>0.024027</td>\n",
       "      <td>...</td>\n",
       "      <td>17.982232</td>\n",
       "      <td>48.076976</td>\n",
       "      <td>10.717954</td>\n",
       "      <td>45.402982</td>\n",
       "      <td>40.660772</td>\n",
       "      <td>46.326461</td>\n",
       "      <td>30.462287</td>\n",
       "      <td>10.307349</td>\n",
       "      <td>25.963423</td>\n",
       "      <td>'Female'</td>\n",
       "    </tr>\n",
       "    <tr>\n",
       "      <th>0</th>\n",
       "      <td>0.017443</td>\n",
       "      <td>0.064028</td>\n",
       "      <td>0.068876</td>\n",
       "      <td>0.050504</td>\n",
       "      <td>0.018636</td>\n",
       "      <td>-0.041725</td>\n",
       "      <td>0.011385</td>\n",
       "      <td>0.016506</td>\n",
       "      <td>0.064162</td>\n",
       "      <td>0.032702</td>\n",
       "      <td>...</td>\n",
       "      <td>18.246863</td>\n",
       "      <td>48.626715</td>\n",
       "      <td>17.902991</td>\n",
       "      <td>44.009620</td>\n",
       "      <td>42.722020</td>\n",
       "      <td>43.383776</td>\n",
       "      <td>3.149878</td>\n",
       "      <td>1.974796</td>\n",
       "      <td>34.722975</td>\n",
       "      <td>'Female'</td>\n",
       "    </tr>\n",
       "    <tr>\n",
       "      <th>0</th>\n",
       "      <td>-0.051310</td>\n",
       "      <td>0.078133</td>\n",
       "      <td>0.147172</td>\n",
       "      <td>0.109493</td>\n",
       "      <td>-0.009415</td>\n",
       "      <td>-0.062249</td>\n",
       "      <td>0.028554</td>\n",
       "      <td>0.031754</td>\n",
       "      <td>0.065372</td>\n",
       "      <td>0.061447</td>\n",
       "      <td>...</td>\n",
       "      <td>17.772994</td>\n",
       "      <td>47.649859</td>\n",
       "      <td>14.814020</td>\n",
       "      <td>48.167825</td>\n",
       "      <td>62.377584</td>\n",
       "      <td>68.938358</td>\n",
       "      <td>18.895308</td>\n",
       "      <td>6.682546</td>\n",
       "      <td>30.315143</td>\n",
       "      <td>'Female'</td>\n",
       "    </tr>\n",
       "    <tr>\n",
       "      <th>0</th>\n",
       "      <td>-0.025493</td>\n",
       "      <td>0.000314</td>\n",
       "      <td>-0.031613</td>\n",
       "      <td>0.074925</td>\n",
       "      <td>-0.023650</td>\n",
       "      <td>-0.008657</td>\n",
       "      <td>0.011211</td>\n",
       "      <td>0.041288</td>\n",
       "      <td>0.025275</td>\n",
       "      <td>0.059714</td>\n",
       "      <td>...</td>\n",
       "      <td>20.186235</td>\n",
       "      <td>45.969501</td>\n",
       "      <td>14.739871</td>\n",
       "      <td>47.084556</td>\n",
       "      <td>65.262772</td>\n",
       "      <td>36.726145</td>\n",
       "      <td>29.365609</td>\n",
       "      <td>13.467612</td>\n",
       "      <td>54.582597</td>\n",
       "      <td>'Female'</td>\n",
       "    </tr>\n",
       "  </tbody>\n",
       "</table>\n",
       "<p>5 rows × 71 columns</p>\n",
       "</div>"
      ],
      "text/plain": [
       "   tonnetz1_mean  tonnetz2_mean  tonnetz3_mean  tonnetz4_mean  tonnetz5_mean  \\\n",
       "0      -0.009410       0.053376       0.026745      -0.044762       0.031280   \n",
       "0      -0.042910       0.004391       0.176053       0.139490      -0.042872   \n",
       "0       0.017443       0.064028       0.068876       0.050504       0.018636   \n",
       "0      -0.051310       0.078133       0.147172       0.109493      -0.009415   \n",
       "0      -0.025493       0.000314      -0.031613       0.074925      -0.023650   \n",
       "\n",
       "   tonnetz6_mean  tonnetz1_var  tonnetz2_var  tonnetz3_var  tonnetz4_var  ...  \\\n",
       "0       0.014680      0.012448      0.012119      0.049109      0.028018  ...   \n",
       "0      -0.064765      0.016270      0.017637      0.048160      0.024027  ...   \n",
       "0      -0.041725      0.011385      0.016506      0.064162      0.032702  ...   \n",
       "0      -0.062249      0.028554      0.031754      0.065372      0.061447  ...   \n",
       "0      -0.008657      0.011211      0.041288      0.025275      0.059714  ...   \n",
       "\n",
       "   spec_contrast6_mean  spec_contrast7_mean  spec_contrast_var1  \\\n",
       "0            18.628574            48.671432           15.539253   \n",
       "0            17.982232            48.076976           10.717954   \n",
       "0            18.246863            48.626715           17.902991   \n",
       "0            17.772994            47.649859           14.814020   \n",
       "0            20.186235            45.969501           14.739871   \n",
       "\n",
       "   spec_contrast2_var  spec_contrast3_var  spec_contrast4_var  \\\n",
       "0           54.773673           48.444731           26.356160   \n",
       "0           45.402982           40.660772           46.326461   \n",
       "0           44.009620           42.722020           43.383776   \n",
       "0           48.167825           62.377584           68.938358   \n",
       "0           47.084556           65.262772           36.726145   \n",
       "\n",
       "   spec_contrast5_var  spec_contrast6_var  spec_contrast7_var       Sex  \n",
       "0            7.896053           11.567927           17.568051  'Female'  \n",
       "0           30.462287           10.307349           25.963423  'Female'  \n",
       "0            3.149878            1.974796           34.722975  'Female'  \n",
       "0           18.895308            6.682546           30.315143  'Female'  \n",
       "0           29.365609           13.467612           54.582597  'Female'  \n",
       "\n",
       "[5 rows x 71 columns]"
      ]
     },
     "execution_count": 5,
     "metadata": {},
     "output_type": "execute_result"
    }
   ],
   "source": [
    "columns = ['tonnetz1_mean', 'tonnetz2_mean', 'tonnetz3_mean', 'tonnetz4_mean', \n",
    "           'tonnetz5_mean', 'tonnetz6_mean', 'tonnetz1_var', 'tonnetz2_var', \n",
    "           'tonnetz3_var', 'tonnetz4_var', 'tonnetz5_var', 'tonnetz6_var', \n",
    "           'spec_centroid_mean', 'spec_centroid_var', \n",
    "           'mfcc1_mean', 'mfcc2_mean', 'mfcc3_mean', 'mfcc4_mean', 'mfcc5_mean', \n",
    "           'mfcc6_mean', 'mfcc7_mean', 'mfcc8_mean', 'mfcc9_mean', 'mfcc10_mean', \n",
    "           'mfcc11_mean', 'mfcc12_mean', 'mfcc13_mean', 'mfcc14_mean', 'mfcc15_mean', \n",
    "           'mfcc16_mean', 'mfcc17_mean', 'mfcc18_mean', 'mfcc19_mean', 'mfcc20_mean',\n",
    "           'mfcc1_var', 'mfcc2_var', 'mfcc3_var', 'mfcc4_var', 'mfcc5_var', \n",
    "           'mfcc6_var', 'mfcc7_var', 'mfcc8_var', 'mfcc9_var', 'mfcc10_var', \n",
    "           'mfcc11_var', 'mfcc12_var', 'mfcc13_var', 'mfcc14_var', 'mfcc15_var', \n",
    "           'mfcc16_var', 'mfcc17_var', 'mfcc18_var', 'mfcc19_var', 'mfcc20_var',\n",
    "           'spec_width_mean', 'spec_width_var', 'spec_contrast1_mean', 'spec_contrast2_mean', \n",
    "           'spec_contrast3_mean', 'spec_contrast4_mean', 'spec_contrast5_mean', 'spec_contrast6_mean', \n",
    "           'spec_contrast7_mean', 'spec_contrast_var1', 'spec_contrast2_var', 'spec_contrast3_var', \n",
    "           'spec_contrast4_var', 'spec_contrast5_var', 'spec_contrast6_var', 'spec_contrast7_var', 'Sex'\n",
    "          ]\n",
    "columns = np.asarray(columns)\n",
    "data.columns = columns;\n",
    "data.head()"
   ]
  },
  {
   "cell_type": "code",
   "execution_count": 6,
   "id": "054bf032",
   "metadata": {
    "execution": {
     "iopub.execute_input": "2023-02-26T08:37:54.206240Z",
     "iopub.status.busy": "2023-02-26T08:37:54.205072Z",
     "iopub.status.idle": "2023-02-26T08:37:57.572840Z",
     "shell.execute_reply": "2023-02-26T08:37:57.571600Z"
    },
    "papermill": {
     "duration": 3.376419,
     "end_time": "2023-02-26T08:37:57.575740",
     "exception": false,
     "start_time": "2023-02-26T08:37:54.199321",
     "status": "completed"
    },
    "tags": []
   },
   "outputs": [],
   "source": [
    "data.to_csv('sample', encoding='utf-8', index=False)\n",
    "data.to_excel('sampleXL.xlsx', sheet_name='sheet1', index=False)"
   ]
  },
  {
   "cell_type": "markdown",
   "id": "ec91bcd2",
   "metadata": {
    "papermill": {
     "duration": 0.005476,
     "end_time": "2023-02-26T08:37:57.585748",
     "exception": false,
     "start_time": "2023-02-26T08:37:57.580272",
     "status": "completed"
    },
    "tags": []
   },
   "source": [
    "# **MACHINE LEARNING CLASSIFICATION**"
   ]
  },
  {
   "cell_type": "code",
   "execution_count": 7,
   "id": "4e128f87",
   "metadata": {
    "execution": {
     "iopub.execute_input": "2023-02-26T08:37:57.596139Z",
     "iopub.status.busy": "2023-02-26T08:37:57.595666Z",
     "iopub.status.idle": "2023-02-26T08:37:57.680453Z",
     "shell.execute_reply": "2023-02-26T08:37:57.679216Z"
    },
    "papermill": {
     "duration": 0.093191,
     "end_time": "2023-02-26T08:37:57.683238",
     "exception": false,
     "start_time": "2023-02-26T08:37:57.590047",
     "status": "completed"
    },
    "tags": []
   },
   "outputs": [],
   "source": [
    "from sklearn.naive_bayes import GaussianNB\n",
    "from sklearn.linear_model import SGDClassifier, LogisticRegression\n",
    "from sklearn.neighbors import KNeighborsClassifier\n",
    "from sklearn.tree import DecisionTreeClassifier\n",
    "from sklearn.ensemble import RandomForestClassifier\n",
    "from sklearn.svm import SVC\n",
    "\n",
    "from sklearn.metrics import confusion_matrix, accuracy_score, roc_auc_score, roc_curve\n",
    "from sklearn import preprocessing\n",
    "from sklearn.model_selection import train_test_split\n"
   ]
  },
  {
   "cell_type": "code",
   "execution_count": 8,
   "id": "6f98a146",
   "metadata": {
    "execution": {
     "iopub.execute_input": "2023-02-26T08:37:57.695274Z",
     "iopub.status.busy": "2023-02-26T08:37:57.694862Z",
     "iopub.status.idle": "2023-02-26T08:37:57.709498Z",
     "shell.execute_reply": "2023-02-26T08:37:57.708257Z"
    },
    "papermill": {
     "duration": 0.024551,
     "end_time": "2023-02-26T08:37:57.712163",
     "exception": false,
     "start_time": "2023-02-26T08:37:57.687612",
     "status": "completed"
    },
    "tags": []
   },
   "outputs": [],
   "source": [
    "y = data['Sex']\n",
    "X = data.loc[:, data.columns != 'Sex']\n",
    "\n",
    "col = X.columns\n",
    "X = preprocessing.MinMaxScaler().fit_transform(X)\n",
    "X = pd.DataFrame(X, columns = col)\n"
   ]
  },
  {
   "cell_type": "code",
   "execution_count": 9,
   "id": "1bd5913e",
   "metadata": {
    "execution": {
     "iopub.execute_input": "2023-02-26T08:37:57.722593Z",
     "iopub.status.busy": "2023-02-26T08:37:57.722209Z",
     "iopub.status.idle": "2023-02-26T08:37:57.730787Z",
     "shell.execute_reply": "2023-02-26T08:37:57.729494Z"
    },
    "papermill": {
     "duration": 0.016338,
     "end_time": "2023-02-26T08:37:57.732965",
     "exception": false,
     "start_time": "2023-02-26T08:37:57.716627",
     "status": "completed"
    },
    "tags": []
   },
   "outputs": [],
   "source": [
    "X_train, X_test, y_train, y_test = train_test_split(X, y, test_size=0.3, random_state=42)"
   ]
  },
  {
   "cell_type": "code",
   "execution_count": 10,
   "id": "dfa80c60",
   "metadata": {
    "execution": {
     "iopub.execute_input": "2023-02-26T08:37:57.743651Z",
     "iopub.status.busy": "2023-02-26T08:37:57.743220Z",
     "iopub.status.idle": "2023-02-26T08:37:57.749242Z",
     "shell.execute_reply": "2023-02-26T08:37:57.748047Z"
    },
    "papermill": {
     "duration": 0.014338,
     "end_time": "2023-02-26T08:37:57.751625",
     "exception": false,
     "start_time": "2023-02-26T08:37:57.737287",
     "status": "completed"
    },
    "tags": []
   },
   "outputs": [],
   "source": [
    "def model_assess(model, title = \"Default\"):\n",
    "    model.fit(X_train, y_train)\n",
    "    preds = model.predict(X_test)\n",
    "    print('Accuracy', title, ':', round(accuracy_score(y_test, preds), 5), '\\n')"
   ]
  },
  {
   "cell_type": "code",
   "execution_count": 11,
   "id": "64278458",
   "metadata": {
    "execution": {
     "iopub.execute_input": "2023-02-26T08:37:57.762513Z",
     "iopub.status.busy": "2023-02-26T08:37:57.761866Z",
     "iopub.status.idle": "2023-02-26T08:38:05.415226Z",
     "shell.execute_reply": "2023-02-26T08:38:05.407958Z"
    },
    "papermill": {
     "duration": 7.665677,
     "end_time": "2023-02-26T08:38:05.421719",
     "exception": false,
     "start_time": "2023-02-26T08:37:57.756042",
     "status": "completed"
    },
    "tags": []
   },
   "outputs": [
    {
     "name": "stdout",
     "output_type": "stream",
     "text": [
      "Accuracy Naive Bayes : 0.8015 \n",
      "\n",
      "Accuracy Stochastic Gradient Descent : 0.92697 \n",
      "\n",
      "Accuracy KNN : 0.91011 \n",
      "\n",
      "Accuracy Decission trees : 0.84644 \n",
      "\n",
      "Accuracy Random Forest : 0.897 \n",
      "\n",
      "Accuracy Support Vector Machine : 0.92135 \n",
      "\n",
      "Accuracy Logistic Regression : 0.92322 \n",
      "\n"
     ]
    }
   ],
   "source": [
    "nb = GaussianNB()\n",
    "model_assess(nb, \"Naive Bayes\")\n",
    "\n",
    "sgd = SGDClassifier(max_iter=5000, random_state=0)\n",
    "model_assess(sgd, \"Stochastic Gradient Descent\")\n",
    "\n",
    "knn = KNeighborsClassifier(n_neighbors=19)\n",
    "model_assess(knn, \"KNN\")\n",
    "\n",
    "tree = DecisionTreeClassifier()\n",
    "model_assess(tree, \"Decission trees\")\n",
    "\n",
    "rforest = RandomForestClassifier(n_estimators=1000, max_depth=10, random_state=0)\n",
    "model_assess(rforest, \"Random Forest\")\n",
    "\n",
    "svm = SVC()\n",
    "model_assess(svm, \"Support Vector Machine\")\n",
    "\n",
    "lg = LogisticRegression()\n",
    "model_assess(lg, \"Logistic Regression\")\n"
   ]
  }
 ],
 "metadata": {
  "kernelspec": {
   "display_name": "Python 3",
   "language": "python",
   "name": "python3"
  },
  "language_info": {
   "codemirror_mode": {
    "name": "ipython",
    "version": 3
   },
   "file_extension": ".py",
   "mimetype": "text/x-python",
   "name": "python",
   "nbconvert_exporter": "python",
   "pygments_lexer": "ipython3",
   "version": "3.7.12"
  },
  "papermill": {
   "default_parameters": {},
   "duration": 643.411491,
   "end_time": "2023-02-26T08:38:06.567915",
   "environment_variables": {},
   "exception": null,
   "input_path": "__notebook__.ipynb",
   "output_path": "__notebook__.ipynb",
   "parameters": {},
   "start_time": "2023-02-26T08:27:23.156424",
   "version": "2.3.4"
  }
 },
 "nbformat": 4,
 "nbformat_minor": 5
}
